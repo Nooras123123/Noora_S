{
  "nbformat": 4,
  "nbformat_minor": 0,
  "metadata": {
    "colab": {
      "provenance": []
    },
    "kernelspec": {
      "name": "python3",
      "display_name": "Python 3"
    },
    "language_info": {
      "name": "python"
    }
  },
  "cells": [
    {
      "cell_type": "code",
      "execution_count": 1,
      "metadata": {
        "id": "Ma4LF1jJbsHm"
      },
      "outputs": [],
      "source": [
        "import pandas as pd\n"
      ]
    },
    {
      "cell_type": "code",
      "source": [
        "data=pd.read_csv('/content/tweets (1).csv')\n"
      ],
      "metadata": {
        "id": "MexkL7q0eocv"
      },
      "execution_count": 2,
      "outputs": []
    },
    {
      "cell_type": "markdown",
      "source": [
        "Sentiment Analysis using RNN"
      ],
      "metadata": {
        "id": "EAo2uklfm2sF"
      }
    },
    {
      "cell_type": "code",
      "source": [
        "from tensorflow.keras.preprocessing import sequence\n",
        "from tensorflow.keras.models import Sequential\n",
        "from tensorflow.keras.layers import Dense, Embedding\n",
        "from tensorflow.keras.layers import LSTM\n",
        "from tensorflow.keras.datasets import imdb\n"
      ],
      "metadata": {
        "id": "NBpySR08e416"
      },
      "execution_count": 3,
      "outputs": []
    },
    {
      "cell_type": "code",
      "source": [
        "(x_train,y_train),(x_test,y_test)=imdb.load_data(num_words=20000)\n",
        "x_train=sequence.pad_sequences(x_train,maxlen=80)\n",
        "x_test=sequence.pad_sequences(x_test,maxlen=80)"
      ],
      "metadata": {
        "id": "UF7LHYwtgqBT"
      },
      "execution_count": 4,
      "outputs": []
    },
    {
      "cell_type": "code",
      "source": [
        "model=Sequential()\n",
        "model.add(Embedding(20000,128))\n",
        "model.add(LSTM(128,dropout=0.2,recurrent_dropout=0.2))\n",
        "model.add(Dense(1,activation='sigmoid'))\n",
        "\n"
      ],
      "metadata": {
        "id": "dG0d34TxhqW3"
      },
      "execution_count": 5,
      "outputs": []
    },
    {
      "cell_type": "code",
      "source": [
        "model.compile(loss='binary_crossentropy',optimizer='adam',metrics=['accuracy'])\n"
      ],
      "metadata": {
        "id": "S9ti_rWFioLG"
      },
      "execution_count": 6,
      "outputs": []
    },
    {
      "cell_type": "code",
      "source": [
        "model.fit(x_train,y_train,batch_size=32,epochs=5,verbose=2,validation_data=(x_test,y_test))"
      ],
      "metadata": {
        "colab": {
          "base_uri": "https://localhost:8080/"
        },
        "id": "15fKB6tnjG09",
        "outputId": "3efdff94-024e-4206-b680-0bdbf5640252"
      },
      "execution_count": 7,
      "outputs": [
        {
          "output_type": "stream",
          "name": "stdout",
          "text": [
            "Epoch 1/5\n",
            "782/782 - 178s - 228ms/step - accuracy: 0.7872 - loss: 0.4564 - val_accuracy: 0.8248 - val_loss: 0.3920\n",
            "Epoch 2/5\n",
            "782/782 - 171s - 218ms/step - accuracy: 0.8768 - loss: 0.3051 - val_accuracy: 0.8354 - val_loss: 0.3858\n",
            "Epoch 3/5\n",
            "782/782 - 171s - 219ms/step - accuracy: 0.9087 - loss: 0.2325 - val_accuracy: 0.8339 - val_loss: 0.4562\n",
            "Epoch 4/5\n",
            "782/782 - 178s - 227ms/step - accuracy: 0.9380 - loss: 0.1659 - val_accuracy: 0.8160 - val_loss: 0.5494\n",
            "Epoch 5/5\n",
            "782/782 - 198s - 253ms/step - accuracy: 0.9524 - loss: 0.1276 - val_accuracy: 0.8273 - val_loss: 0.5575\n"
          ]
        },
        {
          "output_type": "execute_result",
          "data": {
            "text/plain": [
              "<keras.src.callbacks.history.History at 0x7b42722d7650>"
            ]
          },
          "metadata": {},
          "execution_count": 7
        }
      ]
    },
    {
      "cell_type": "code",
      "source": [
        "score,acc=model.evaluate(x_test,y_test,batch_size=32,verbose=2)\n",
        "print('Test score:',score)\n",
        "print('Test accuracy:',acc)"
      ],
      "metadata": {
        "colab": {
          "base_uri": "https://localhost:8080/"
        },
        "id": "AsGPY8hzlQda",
        "outputId": "ea8a4d85-0da0-43e4-fd28-c106e2949a91"
      },
      "execution_count": 8,
      "outputs": [
        {
          "output_type": "stream",
          "name": "stdout",
          "text": [
            "782/782 - 36s - 45ms/step - accuracy: 0.8273 - loss: 0.5575\n",
            "Test score: 0.5574946999549866\n",
            "Test accuracy: 0.8273199796676636\n"
          ]
        }
      ]
    }
  ]
}